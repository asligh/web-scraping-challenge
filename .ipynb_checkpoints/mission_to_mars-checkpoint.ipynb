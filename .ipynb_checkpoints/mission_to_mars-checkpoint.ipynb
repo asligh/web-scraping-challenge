{
 "cells": [
  {
   "cell_type": "code",
   "execution_count": 1,
   "metadata": {},
   "outputs": [],
   "source": [
    "from splinter import Browser\n",
    "from bs4 import BeautifulSoup\n",
    "import pandas as pd\n",
    "from webdriver_manager.chrome import ChromeDriverManager"
   ]
  },
  {
   "cell_type": "code",
   "execution_count": 2,
   "metadata": {},
   "outputs": [
    {
     "name": "stderr",
     "output_type": "stream",
     "text": [
      "\n",
      "\n",
      "====== WebDriver manager ======\n",
      "Current google-chrome version is 96.0.4664\n",
      "Get LATEST chromedriver version for 96.0.4664 google-chrome\n",
      "Driver [C:\\Users\\aslig\\.wdm\\drivers\\chromedriver\\win32\\96.0.4664.45\\chromedriver.exe] found in cache\n"
     ]
    }
   ],
   "source": [
    "executable_path = {'executable_path': ChromeDriverManager().install()}\n",
    "browser = Browser('chrome', **executable_path, headless=False)"
   ]
  },
  {
   "cell_type": "code",
   "execution_count": 3,
   "metadata": {},
   "outputs": [],
   "source": [
    "red_planet_url       = 'https://redplanetscience.com/'\n",
    "mars_images_url      = 'https://spaceimages-mars.com/'\n",
    "galaxy_facts_url     = 'https://galaxyfacts-mars.com/'\n",
    "mars_hemispheres_url = 'https://marshemispheres.com/'"
   ]
  },
  {
   "cell_type": "code",
   "execution_count": 4,
   "metadata": {},
   "outputs": [],
   "source": [
    "browser.visit(red_planet_url)"
   ]
  },
  {
   "cell_type": "code",
   "execution_count": 5,
   "metadata": {},
   "outputs": [
    {
     "name": "stdout",
     "output_type": "stream",
     "text": [
      "<class 'bs4.element.ResultSet'>\n"
     ]
    }
   ],
   "source": [
    "html = browser.html\n",
    "soup = BeautifulSoup(html, 'html.parser')\n",
    "\n",
    "news_items = soup.find_all('div', class_='list_text')\n",
    "\n",
    "print(type(news_items))"
   ]
  },
  {
   "cell_type": "code",
   "execution_count": 6,
   "metadata": {},
   "outputs": [],
   "source": [
    "#for news_item in news_items:\n",
    "   # print(news_item)\n",
    "   # break"
   ]
  },
  {
   "cell_type": "code",
   "execution_count": 7,
   "metadata": {},
   "outputs": [],
   "source": [
    "news_title = None\n",
    "news_body  = None\n",
    "scraped_news = {}\n",
    "\n",
    "try:\n",
    "    for news_item in news_items:\n",
    "        news_title = news_item.find('div',class_='content_title').text\n",
    "        news_body = news_item.find('div',class_=\"article_teaser_body\").text\n",
    "        scraped_news.update({news_title:news_body})\n",
    "except ElementDoesNotExist:\n",
    "    print(\"Scraping Complete\")"
   ]
  },
  {
   "cell_type": "code",
   "execution_count": 8,
   "metadata": {},
   "outputs": [
    {
     "name": "stdout",
     "output_type": "stream",
     "text": [
      "{\"Follow NASA's Perseverance Rover in Real Time on Its Way to Mars\": \"A crisply rendered web application can show you where the agency's Mars 2020 mission is right now as it makes its way to the Red Planet for a Feb. 18, 2021, landing.\", 'Two Rovers to Roll on Mars Again: Curiosity and Mars 2020': 'They look like twins. But under the hood, the rover currently exploring the Red Planet and the one launching there this summer have distinct science tools and roles to play.', 'NASA Wins Two Emmy Awards for Interactive Mission Coverage': \"NASA-JPL's coverage of the Mars InSight landing earns one of the two wins, making this the NASA center's second Emmy.\", \"NASA's Perseverance Rover Will Carry First Spacesuit Materials to Mars\": 'In a Q&A, spacesuit designer Amy Ross explains how five samples, including a piece of helmet visor, will be tested aboard the rover, which is targeting a July 30 launch. ', 'NASA Mars Mission Connects With Bosnian and Herzegovinian Town': 'A letter from NASA was presented to the mayor of Jezero, Bosnia-Herzegovina, honoring the connection between the town and Jezero Crater, the Mars 2020 rover landing site.', \"How NASA's Perseverance Mars Team Adjusted to Work in the Time of Coronavirus \": 'Like much of the rest of the world, the Mars rover team is pushing forward with its mission-critical work while putting the health and safety of their colleagues and community first.', \"NASA Engineers Checking InSight's Weather Sensors\": 'An electronics issue is suspected to be preventing the sensors from sharing their data about Mars weather with the spacecraft.', \"Deadline Closing for Names to Fly on NASA's Next Mars Rover\": 'You have until Sept. 30 to send your names to Mars aboard the Mars 2020 rover. ', \"How NASA's Mars Helicopter Will Reach the Red Planet's Surface\": 'The small craft will seek to prove that powered, controlled flight is possible on another planet. But just getting it onto the surface of Mars will take a whole lot of ingenuity.', 'NASA Invites Students to Name Mars 2020 Rover': \"Through Nov. 1, K-12 students in the U.S. are encouraged to enter an essay contest to name NASA's next Mars rover.\", \"A Martian Roundtrip: NASA's Perseverance Rover Sample Tubes\": \"Marvels of engineering, the rover's sample tubes must be tough enough to safely bring Red Planet samples on the long journey back to Earth in immaculate condition. \", \"NASA's New Mars Rover Will Use X-Rays to Hunt Fossils\": \"PIXL, an instrument on the end of the Perseverance rover's arm, will search for chemical fingerprints left by ancient microbes.\", \"NASA's Treasure Map for Water Ice on Mars\": 'A new study identifies frozen water just below the Martian surface, where astronauts could easily dig it up.', \"NASA's Perseverance Rover Will Look at Mars Through These 'Eyes'\": 'A pair of zoomable cameras will help scientists and rover drivers with high-resolution color images.', 'NASA Administrator Statement on Moon to Mars Initiative, FY 2021 Budget': \"Jim Bridenstine addresses NASA's ambitious plans for the coming years, including Mars Sample Return.\"}\n"
     ]
    }
   ],
   "source": [
    "print(scraped_news)"
   ]
  },
  {
   "cell_type": "code",
   "execution_count": 9,
   "metadata": {},
   "outputs": [],
   "source": [
    "#browser.quit()"
   ]
  },
  {
   "cell_type": "code",
   "execution_count": 10,
   "metadata": {},
   "outputs": [],
   "source": [
    "browser.visit(mars_images_url)\n",
    "html = browser.html\n",
    "soup = BeautifulSoup(html, 'html.parser')"
   ]
  },
  {
   "cell_type": "code",
   "execution_count": 11,
   "metadata": {},
   "outputs": [],
   "source": [
    "mars_images_url = browser.url\n",
    "mars_image_wrapper = soup.find_all('a', class_='fancybox-thumbs')\n",
    "unique_mars_images = []\n",
    "\n",
    "for image in mars_image_wrapper:\n",
    "    image_url = mars_images_url+image['href']\n",
    "    \n",
    "    if(image_url not in unique_mars_images):\n",
    "        unique_mars_images.append(image_url)"
   ]
  },
  {
   "cell_type": "code",
   "execution_count": 12,
   "metadata": {},
   "outputs": [
    {
     "name": "stdout",
     "output_type": "stream",
     "text": [
      "['https://spaceimages-mars.com/image/featured/mars3.jpg', 'https://spaceimages-mars.com/image/mars/Icaria Fossae7.jpg', 'https://spaceimages-mars.com/image/mars/Proctor Crater Dunes 7.jpg', 'https://spaceimages-mars.com/image/mars/Icaria Fossae.jpg', 'https://spaceimages-mars.com/image/mars/Ariadnes Colles4.jpg', 'https://spaceimages-mars.com/image/mars/Niger Vallis.jpg', 'https://spaceimages-mars.com/image/mars/Proctor Crater Dunes.jpg', 'https://spaceimages-mars.com/image/mars/Daedalia Planum.jpg', 'https://spaceimages-mars.com/image/mars/Sirenum Fossae.jpg', 'https://spaceimages-mars.com/image/mars/South Polar Cap.jpg', 'https://spaceimages-mars.com/image/mars/Ariadnes Colles3.jpg', 'https://spaceimages-mars.com/image/mars/Atlantis Chaos.jpg', 'https://spaceimages-mars.com/image/mars/Reull Vallis.jpg']\n"
     ]
    }
   ],
   "source": [
    "print(unique_mars_images)"
   ]
  },
  {
   "cell_type": "code",
   "execution_count": 13,
   "metadata": {},
   "outputs": [],
   "source": [
    "browser.visit(galaxy_facts_url)\n",
    "html = browser.html\n",
    "soup = BeautifulSoup(html, 'html.parser')"
   ]
  },
  {
   "cell_type": "code",
   "execution_count": 14,
   "metadata": {},
   "outputs": [
    {
     "name": "stdout",
     "output_type": "stream",
     "text": [
      "{'Equatorial Diameter': '6,792 km', 'Polar Diameter': '6,752 km', 'Mass': '\\t6.39 × 10^23 kg (0.11 Earths)', 'Moons': '\\t2 ( Phobos  &  Deimos )', 'Orbit Distance': '\\t227,943,824 km (1.38 AU)', 'Orbit Period': '\\t687 days (1.9 years)', 'Surface Temperature': '\\t-87 to -5 °C', 'First Record': '\\t2nd millennium BC', 'Recorded By': '\\tEgyptian astronomers'}\n"
     ]
    }
   ],
   "source": [
    "equitorial_diameter = \"Equatorial Diameter\"\n",
    "polar_diameter      = \"Polar Diameter\"\n",
    "mass                = \"Mass\"\n",
    "moon                = \"Moons\"\n",
    "orbit_distance      = \"Orbit Distance\"\n",
    "orbit_period        = \"Orbit Period\"\n",
    "surface_temperature = \"Surface Temperature\"\n",
    "first_record        = \"First Record\"\n",
    "recorded_by         = \"Recorded By\"\n",
    "\n",
    "mars_fact_hash = {\n",
    "                      equitorial_diameter:None,\n",
    "                      polar_diameter:None,\n",
    "                      mass:None,\n",
    "                      moon:None,\n",
    "                      orbit_distance:None,\n",
    "                      orbit_period:None,\n",
    "                      surface_temperature:None,\n",
    "                      first_record:None,\n",
    "                      recorded_by:None\n",
    "                 }\n",
    "\n",
    "mars_facts_wrapper = soup.find('table', class_='table-striped')\n",
    "body = mars_facts_wrapper.find('tbody')\n",
    "table_rows = body.find_all('tr')\n",
    "\n",
    "for table_row in table_rows:\n",
    "    measurement_key   = table_row.find('th').text.replace(':','')\n",
    "    measurement_value = table_row.find('td').text.replace(':','')\n",
    "    mars_fact_hash.update({measurement_key:measurement_value})\n",
    "    \n",
    "print(mars_fact_hash)\n",
    " "
   ]
  },
  {
   "cell_type": "code",
   "execution_count": 74,
   "metadata": {},
   "outputs": [],
   "source": [
    "browser.visit(mars_hemispheres_url)\n",
    "html = browser.html\n",
    "soup = BeautifulSoup(html, 'html.parser')"
   ]
  },
  {
   "cell_type": "code",
   "execution_count": 75,
   "metadata": {},
   "outputs": [],
   "source": [
    "hemisphere_image_urls = []"
   ]
  },
  {
   "cell_type": "code",
   "execution_count": 76,
   "metadata": {},
   "outputs": [
    {
     "ename": "SyntaxError",
     "evalue": "invalid syntax (Temp/ipykernel_13276/414678661.py, line 23)",
     "output_type": "error",
     "traceback": [
      "\u001b[1;36m  File \u001b[1;32m\"C:\\Users\\aslig\\AppData\\Local\\Temp/ipykernel_13276/414678661.py\"\u001b[1;36m, line \u001b[1;32m23\u001b[0m\n\u001b[1;33m    break\u001b[0m\n\u001b[1;37m    ^\u001b[0m\n\u001b[1;31mSyntaxError\u001b[0m\u001b[1;31m:\u001b[0m invalid syntax\n"
     ]
    }
   ],
   "source": [
    "mars_hemispheres_wrapper = soup.find('div', class_='collapsible results')\n",
    "hemispheres              = mars_hemispheres_wrapper.find_all('div', class_='item')\n",
    "mars_hemispheres_url     = browser.url\n",
    "\n",
    "for hemisphere in hemispheres:\n",
    "    title               = hemisphere.find('h3').text.replace('Enhanced','')\n",
    "    large_image_nav_url = mars_hemispheres_url + hemisphere.find('a')['href']\n",
    "\n",
    "    browser.visit(large_image_nav_url)\n",
    "    html = browser.html\n",
    "    soup = BeautifulSoup(html, 'html.parser')\n",
    "\n",
    "    mars_large_image_wrapper = soup.find('div', class_='downloads')\n",
    "    image_container = mars_large_image_wrapper.find('ul')\n",
    "    image_items = image_container.find_all('li')\n",
    "\n",
    "    for image_item in image_items:\n",
    "        image_pict_desc = image_item.find('a').text\n",
    "\n",
    "        if 'Sample' == image_pict_desc:\n",
    "            img_url = mars_hemispheres_url + image_item.find('a')['href']\n",
    "            hemisphere_image_urls.append({title:img_url})\n",
    "            break\n",
    "\n",
    "print(hemisphere_image_urls)                                 \n",
    "    #image_choices = mars_large_image_wrapper.find('ul')\n",
    "    #print(image_choices)\n",
    "    \n",
    "    #print(mars_large_image_wrapper)\n",
    "   \n",
    "    \n",
    "    \n",
    "    \n",
    "    #html = browser.html\n",
    "    #soup = BeautifulSoup(html, 'html.parser')\n",
    "  \n",
    "    \n",
    "#mars_hemispheres_wrapper\n",
    "\n",
    "#for image in mars_image_wrapper:\n",
    "   # image_url = mars_images_url+image['href']\n",
    "    \n",
    "    #if(image_url not in unique_mars_images):\n",
    "       # unique_mars_images.append(image_url)"
   ]
  },
  {
   "cell_type": "code",
   "execution_count": null,
   "metadata": {},
   "outputs": [],
   "source": [
    "categories = sidebar.find_all('li')\n",
    "\n",
    "category_list = []\n",
    "url_list = []\n",
    "book_url_list = []\n",
    "for category in categories:\n",
    "    title = category.text.strip()\n",
    "    category_list.append(title)\n",
    "    book_url = category.find('a')['href']\n",
    "    url_list.append(book_url)\n",
    "\n",
    "book_url_list = ['http://books.toscrape.com/' + url for url in url_list]\n",
    "\n",
    "titles_and_urls = zip(category_list, book_url_list)\n",
    "\n",
    "try:\n",
    "    for title_url in titles_and_urls:\n",
    "        browser.links.find_by_partial_text('next').click()\n",
    "except ElementDoesNotExist:\n",
    "    print(\"Scraping Complete\")"
   ]
  },
  {
   "cell_type": "code",
   "execution_count": null,
   "metadata": {},
   "outputs": [],
   "source": [
    "book_url_list"
   ]
  },
  {
   "cell_type": "code",
   "execution_count": null,
   "metadata": {},
   "outputs": [],
   "source": [
    "browser.quit()"
   ]
  }
 ],
 "metadata": {
  "kernelspec": {
   "display_name": "Python [conda env:PythonData] *",
   "language": "python",
   "name": "conda-env-PythonData-py"
  },
  "language_info": {
   "codemirror_mode": {
    "name": "ipython",
    "version": 3
   },
   "file_extension": ".py",
   "mimetype": "text/x-python",
   "name": "python",
   "nbconvert_exporter": "python",
   "pygments_lexer": "ipython3",
   "version": "3.8.11"
  },
  "varInspector": {
   "cols": {
    "lenName": 16,
    "lenType": 16,
    "lenVar": 40
   },
   "kernels_config": {
    "python": {
     "delete_cmd_postfix": "",
     "delete_cmd_prefix": "del ",
     "library": "var_list.py",
     "varRefreshCmd": "print(var_dic_list())"
    },
    "r": {
     "delete_cmd_postfix": ") ",
     "delete_cmd_prefix": "rm(",
     "library": "var_list.r",
     "varRefreshCmd": "cat(var_dic_list()) "
    }
   },
   "types_to_exclude": [
    "module",
    "function",
    "builtin_function_or_method",
    "instance",
    "_Feature"
   ],
   "window_display": false
  }
 },
 "nbformat": 4,
 "nbformat_minor": 2
}
