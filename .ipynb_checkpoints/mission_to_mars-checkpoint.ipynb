{
 "cells": [
  {
   "cell_type": "code",
   "execution_count": 24,
   "metadata": {},
   "outputs": [],
   "source": [
    "from splinter import Browser\n",
    "from bs4 import BeautifulSoup\n",
    "import pandas as pd\n",
    "import time\n",
    "from webdriver_manager.chrome import ChromeDriverManager"
   ]
  },
  {
   "cell_type": "code",
   "execution_count": 25,
   "metadata": {},
   "outputs": [
    {
     "name": "stderr",
     "output_type": "stream",
     "text": [
      "\n",
      "\n",
      "====== WebDriver manager ======\n",
      "Current google-chrome version is 96.0.4664\n",
      "Get LATEST chromedriver version for 96.0.4664 google-chrome\n",
      "Driver [C:\\Users\\aslig\\.wdm\\drivers\\chromedriver\\win32\\96.0.4664.45\\chromedriver.exe] found in cache\n"
     ]
    }
   ],
   "source": [
    "executable_path = {'executable_path': ChromeDriverManager().install()}\n",
    "browser = Browser('chrome', **executable_path, headless=False)"
   ]
  },
  {
   "cell_type": "code",
   "execution_count": 26,
   "metadata": {},
   "outputs": [],
   "source": [
    "mars_facts = {}\n",
    "\n",
    "RED_PLANET_URL       = 'https://redplanetscience.com/'\n",
    "MARS_IMAGES_URL      = 'https://spaceimages-mars.com/'\n",
    "PLANET_FACTS_URL     = 'https://galaxyfacts-mars.com/'\n",
    "MARS_HEMISPHERES_URL = 'https://marshemispheres.com/'"
   ]
  },
  {
   "cell_type": "code",
   "execution_count": 27,
   "metadata": {},
   "outputs": [],
   "source": [
    "browser.visit(RED_PLANET_URL)\n",
    "time.sleep(1)"
   ]
  },
  {
   "cell_type": "code",
   "execution_count": 28,
   "metadata": {},
   "outputs": [
    {
     "name": "stdout",
     "output_type": "stream",
     "text": [
      "<class 'bs4.element.ResultSet'>\n"
     ]
    }
   ],
   "source": [
    "html = browser.html\n",
    "soup = BeautifulSoup(html, 'html.parser')\n",
    "\n",
    "news_items = soup.find_all('div', class_='list_text')\n",
    "\n",
    "print(type(news_items))"
   ]
  },
  {
   "cell_type": "code",
   "execution_count": 29,
   "metadata": {},
   "outputs": [],
   "source": [
    "news_title = None\n",
    "news_body  = None\n",
    "featured_news = []\n",
    "\n",
    "for news_item in news_items:\n",
    "    \n",
    "    news_title = news_item.find('div',class_='content_title').text\n",
    "    news_body = news_item.find('div',class_=\"article_teaser_body\").text\n",
    "    \n",
    "    featured_news.append({\"news_title\"     : news_title, \"news_paragraph\" : news_body}) \n",
    "    \n",
    "    mars_facts[\"featured_news\"]=featured_news\n",
    "    \n",
    "    break #only take first news item"
   ]
  },
  {
   "cell_type": "code",
   "execution_count": 30,
   "metadata": {},
   "outputs": [
    {
     "name": "stdout",
     "output_type": "stream",
     "text": [
      "{'featured_news': [{'news_title': \"A Year of Surprising Science From NASA's InSight Mars Mission\", 'news_paragraph': \"A batch of new papers summarizes the lander's findings above and below the surface of the Red Planet.\"}]}\n"
     ]
    }
   ],
   "source": [
    "print(mars_facts)"
   ]
  },
  {
   "cell_type": "code",
   "execution_count": 31,
   "metadata": {},
   "outputs": [],
   "source": [
    "browser.visit(MARS_IMAGES_URL)\n",
    "time.sleep(1)"
   ]
  },
  {
   "cell_type": "code",
   "execution_count": 32,
   "metadata": {},
   "outputs": [],
   "source": [
    "html = browser.html\n",
    "soup = BeautifulSoup(html, 'html.parser')"
   ]
  },
  {
   "cell_type": "code",
   "execution_count": 33,
   "metadata": {},
   "outputs": [],
   "source": [
    "mars_images_url = browser.url\n",
    "mars_image_wrapper = soup.find_all('div', class_='floating_text_area')[0]\n",
    "img_target_url = mars_image_wrapper.find('a')['href']\n",
    "featured_image_url = [mars_images_url + img_target_url]\n",
    "\n",
    "mars_facts[\"featured_image\"] = featured_image_url    "
   ]
  },
  {
   "cell_type": "code",
   "execution_count": 34,
   "metadata": {},
   "outputs": [
    {
     "name": "stdout",
     "output_type": "stream",
     "text": [
      "{'featured_news': [{'news_title': \"A Year of Surprising Science From NASA's InSight Mars Mission\", 'news_paragraph': \"A batch of new papers summarizes the lander's findings above and below the surface of the Red Planet.\"}], 'featured_image': ['https://spaceimages-mars.com/image/featured/mars3.jpg']}\n"
     ]
    }
   ],
   "source": [
    "print(mars_facts)"
   ]
  },
  {
   "cell_type": "code",
   "execution_count": 35,
   "metadata": {},
   "outputs": [],
   "source": [
    "browser.visit(PLANET_FACTS_URL)\n",
    "time.sleep(1)\n"
   ]
  },
  {
   "cell_type": "code",
   "execution_count": 36,
   "metadata": {},
   "outputs": [],
   "source": [
    "html = browser.html\n",
    "soup = BeautifulSoup(html, 'html.parser')"
   ]
  },
  {
   "cell_type": "code",
   "execution_count": 37,
   "metadata": {},
   "outputs": [
    {
     "data": {
      "text/html": [
       "<div>\n",
       "<style scoped>\n",
       "    .dataframe tbody tr th:only-of-type {\n",
       "        vertical-align: middle;\n",
       "    }\n",
       "\n",
       "    .dataframe tbody tr th {\n",
       "        vertical-align: top;\n",
       "    }\n",
       "\n",
       "    .dataframe thead th {\n",
       "        text-align: right;\n",
       "    }\n",
       "</style>\n",
       "<table border=\"1\" class=\"dataframe\">\n",
       "  <thead>\n",
       "    <tr style=\"text-align: right;\">\n",
       "      <th></th>\n",
       "      <th>Mars</th>\n",
       "      <th>Earth</th>\n",
       "    </tr>\n",
       "    <tr>\n",
       "      <th>Description</th>\n",
       "      <th></th>\n",
       "      <th></th>\n",
       "    </tr>\n",
       "  </thead>\n",
       "  <tbody>\n",
       "    <tr>\n",
       "      <th>Mars - Earth Comparison</th>\n",
       "      <td>Mars</td>\n",
       "      <td>Earth</td>\n",
       "    </tr>\n",
       "    <tr>\n",
       "      <th>Diameter:</th>\n",
       "      <td>6,779 km</td>\n",
       "      <td>12,742 km</td>\n",
       "    </tr>\n",
       "    <tr>\n",
       "      <th>Mass:</th>\n",
       "      <td>6.39 × 10^23 kg</td>\n",
       "      <td>5.97 × 10^24 kg</td>\n",
       "    </tr>\n",
       "    <tr>\n",
       "      <th>Moons:</th>\n",
       "      <td>2</td>\n",
       "      <td>1</td>\n",
       "    </tr>\n",
       "    <tr>\n",
       "      <th>Distance from Sun:</th>\n",
       "      <td>227,943,824 km</td>\n",
       "      <td>149,598,262 km</td>\n",
       "    </tr>\n",
       "    <tr>\n",
       "      <th>Length of Year:</th>\n",
       "      <td>687 Earth days</td>\n",
       "      <td>365.24 days</td>\n",
       "    </tr>\n",
       "    <tr>\n",
       "      <th>Temperature:</th>\n",
       "      <td>-87 to -5 °C</td>\n",
       "      <td>-88 to 58°C</td>\n",
       "    </tr>\n",
       "  </tbody>\n",
       "</table>\n",
       "</div>"
      ],
      "text/plain": [
       "                                    Mars            Earth\n",
       "Description                                              \n",
       "Mars - Earth Comparison             Mars            Earth\n",
       "Diameter:                       6,779 km        12,742 km\n",
       "Mass:                    6.39 × 10^23 kg  5.97 × 10^24 kg\n",
       "Moons:                                 2                1\n",
       "Distance from Sun:        227,943,824 km   149,598,262 km\n",
       "Length of Year:           687 Earth days      365.24 days\n",
       "Temperature:                -87 to -5 °C      -88 to 58°C"
      ]
     },
     "execution_count": 37,
     "metadata": {},
     "output_type": "execute_result"
    }
   ],
   "source": [
    "df_column_1_name = \"Description\"\n",
    "df_column_2_name = \"Mars\"\n",
    "df_column_3_name = \"Earth\"\n",
    "\n",
    "descriptions = []\n",
    "mars_fcts   = []\n",
    "earth_fcts  = []\n",
    "\n",
    "mars_idx  = 0\n",
    "earth_idx = 1\n",
    "\n",
    "planet_facts_wrapper = soup.find('div', class_='diagram')\n",
    "planet_fact_table    = planet_facts_wrapper.find('table', class_=\"table\")\n",
    "planet_fact_rows     = planet_fact_table.find_all('tr')\n",
    "\n",
    "for planet_fact_row in planet_fact_rows:\n",
    "    row_desc = planet_fact_row.find('th').text.strip()\n",
    "    descriptions.append(row_desc)\n",
    "    \n",
    "    facts = planet_fact_row.find_all('td')\n",
    "    \n",
    "    mars_fact  = facts[mars_idx].text.strip()\n",
    "    earth_fact = facts[earth_idx].text.strip()\n",
    "    \n",
    "    mars_fcts.append(mars_fact)\n",
    "    earth_fcts.append(earth_fact)\n",
    "\n",
    "planet_facts_df = pd.DataFrame({\n",
    "                                    df_column_1_name: descriptions, \n",
    "                                    df_column_2_name: mars_fcts,\n",
    "                                    df_column_3_name: earth_fcts,\n",
    "                               })\n",
    "    \n",
    "planet_facts_df.set_index(df_column_1_name,inplace=True)\n",
    "planet_facts_df.head(7)"
   ]
  },
  {
   "cell_type": "code",
   "execution_count": 38,
   "metadata": {},
   "outputs": [
    {
     "name": "stdout",
     "output_type": "stream",
     "text": [
      "<table border=\"1\" class=\"dataframe\">\n",
      "  <thead>\n",
      "    <tr style=\"text-align: right;\">\n",
      "      <th></th>\n",
      "      <th>Mars</th>\n",
      "      <th>Earth</th>\n",
      "    </tr>\n",
      "    <tr>\n",
      "      <th>Description</th>\n",
      "      <th></th>\n",
      "      <th></th>\n",
      "    </tr>\n",
      "  </thead>\n",
      "  <tbody>\n",
      "    <tr>\n",
      "      <th>Mars - Earth Comparison</th>\n",
      "      <td>Mars</td>\n",
      "      <td>Earth</td>\n",
      "    </tr>\n",
      "    <tr>\n",
      "      <th>Diameter:</th>\n",
      "      <td>6,779 km</td>\n",
      "      <td>12,742 km</td>\n",
      "    </tr>\n",
      "    <tr>\n",
      "      <th>Mass:</th>\n",
      "      <td>6.39 × 10^23 kg</td>\n",
      "      <td>5.97 × 10^24 kg</td>\n",
      "    </tr>\n",
      "    <tr>\n",
      "      <th>Moons:</th>\n",
      "      <td>2</td>\n",
      "      <td>1</td>\n",
      "    </tr>\n",
      "    <tr>\n",
      "      <th>Distance from Sun:</th>\n",
      "      <td>227,943,824 km</td>\n",
      "      <td>149,598,262 km</td>\n",
      "    </tr>\n",
      "    <tr>\n",
      "      <th>Length of Year:</th>\n",
      "      <td>687 Earth days</td>\n",
      "      <td>365.24 days</td>\n",
      "    </tr>\n",
      "    <tr>\n",
      "      <th>Temperature:</th>\n",
      "      <td>-87 to -5 °C</td>\n",
      "      <td>-88 to 58°C</td>\n",
      "    </tr>\n",
      "  </tbody>\n",
      "</table>\n"
     ]
    }
   ],
   "source": [
    "planet_facts_html = planet_facts_df.to_html( buf=None, \n",
    "                                             columns=None, \n",
    "                                             header=True, \n",
    "                                             index=True, \n",
    "                                             na_rep='NaN', \n",
    "                                             formatters=None, \n",
    "                                             float_format=None, \n",
    "                                             sparsify=None, \n",
    "                                             index_names=True, \n",
    "                                             justify=None, \n",
    "                                             bold_rows=True, \n",
    "                                             classes=None, \n",
    "                                             escape=True, \n",
    "                                             max_rows=None,\n",
    "                                             max_cols=None, \n",
    "                                             show_dimensions=False, \n",
    "                                             notebook=False )\n",
    "\n",
    "print(planet_facts_html)"
   ]
  },
  {
   "cell_type": "code",
   "execution_count": 39,
   "metadata": {},
   "outputs": [],
   "source": [
    "mars_facts[\"mars_facts\"] = [planet_facts_html]"
   ]
  },
  {
   "cell_type": "code",
   "execution_count": 40,
   "metadata": {},
   "outputs": [
    {
     "name": "stdout",
     "output_type": "stream",
     "text": [
      "{'featured_news': [{'news_title': \"A Year of Surprising Science From NASA's InSight Mars Mission\", 'news_paragraph': \"A batch of new papers summarizes the lander's findings above and below the surface of the Red Planet.\"}], 'featured_image': ['https://spaceimages-mars.com/image/featured/mars3.jpg'], 'mars_facts': ['<table border=\"1\" class=\"dataframe\">\\n  <thead>\\n    <tr style=\"text-align: right;\">\\n      <th></th>\\n      <th>Mars</th>\\n      <th>Earth</th>\\n    </tr>\\n    <tr>\\n      <th>Description</th>\\n      <th></th>\\n      <th></th>\\n    </tr>\\n  </thead>\\n  <tbody>\\n    <tr>\\n      <th>Mars - Earth Comparison</th>\\n      <td>Mars</td>\\n      <td>Earth</td>\\n    </tr>\\n    <tr>\\n      <th>Diameter:</th>\\n      <td>6,779 km</td>\\n      <td>12,742 km</td>\\n    </tr>\\n    <tr>\\n      <th>Mass:</th>\\n      <td>6.39 × 10^23 kg</td>\\n      <td>5.97 × 10^24 kg</td>\\n    </tr>\\n    <tr>\\n      <th>Moons:</th>\\n      <td>2</td>\\n      <td>1</td>\\n    </tr>\\n    <tr>\\n      <th>Distance from Sun:</th>\\n      <td>227,943,824 km</td>\\n      <td>149,598,262 km</td>\\n    </tr>\\n    <tr>\\n      <th>Length of Year:</th>\\n      <td>687 Earth days</td>\\n      <td>365.24 days</td>\\n    </tr>\\n    <tr>\\n      <th>Temperature:</th>\\n      <td>-87 to -5 °C</td>\\n      <td>-88 to 58°C</td>\\n    </tr>\\n  </tbody>\\n</table>']}\n"
     ]
    }
   ],
   "source": [
    "print(mars_facts)"
   ]
  },
  {
   "cell_type": "code",
   "execution_count": 41,
   "metadata": {},
   "outputs": [],
   "source": [
    "browser.visit(MARS_HEMISPHERES_URL)\n",
    "time.sleep(1)"
   ]
  },
  {
   "cell_type": "code",
   "execution_count": 42,
   "metadata": {},
   "outputs": [],
   "source": [
    "html = browser.html\n",
    "soup = BeautifulSoup(html, 'html.parser')"
   ]
  },
  {
   "cell_type": "code",
   "execution_count": 43,
   "metadata": {},
   "outputs": [],
   "source": [
    "hemisphere_image_urls = []"
   ]
  },
  {
   "cell_type": "code",
   "execution_count": 44,
   "metadata": {},
   "outputs": [],
   "source": [
    "mars_hemispheres_wrapper = soup.find('div', class_='collapsible results')\n",
    "hemispheres              = mars_hemispheres_wrapper.find_all('div', class_='item')\n",
    "mars_hemispheres_url     = browser.url\n",
    "\n",
    "for hemisphere in hemispheres:\n",
    "    title               = hemisphere.find('h3').text.replace('Enhanced','')\n",
    "    large_image_nav_url = mars_hemispheres_url + hemisphere.find('a')['href']\n",
    "\n",
    "    browser.visit(large_image_nav_url)\n",
    "    html = browser.html\n",
    "    soup = BeautifulSoup(html, 'html.parser')\n",
    "\n",
    "    mars_large_image_wrapper = soup.find('div', class_='downloads')\n",
    "    image_container = mars_large_image_wrapper.find('ul')\n",
    "    image_items = image_container.find_all('li')\n",
    "\n",
    "    for image_item in image_items:\n",
    "        image_pict_desc = image_item.find('a').text\n",
    "\n",
    "        if 'Sample' == image_pict_desc:\n",
    "            img_url = mars_hemispheres_url + image_item.find('a')['href']\n",
    "            image_dict = {\"title\":title,\"img_url\":img_url}\n",
    "            hemisphere_image_urls.append(image_dict)\n",
    "            break"
   ]
  },
  {
   "cell_type": "code",
   "execution_count": 45,
   "metadata": {},
   "outputs": [],
   "source": [
    "mars_facts[\"mars_images\"] = hemisphere_image_urls"
   ]
  },
  {
   "cell_type": "code",
   "execution_count": null,
   "metadata": {},
   "outputs": [],
   "source": [
    "print(mars_facts)"
   ]
  },
  {
   "cell_type": "code",
   "execution_count": 47,
   "metadata": {},
   "outputs": [],
   "source": [
    "browser.quit()"
   ]
  }
 ],
 "metadata": {
  "kernelspec": {
   "display_name": "Python [conda env:PythonData] *",
   "language": "python",
   "name": "conda-env-PythonData-py"
  },
  "language_info": {
   "codemirror_mode": {
    "name": "ipython",
    "version": 3
   },
   "file_extension": ".py",
   "mimetype": "text/x-python",
   "name": "python",
   "nbconvert_exporter": "python",
   "pygments_lexer": "ipython3",
   "version": "3.8.11"
  },
  "varInspector": {
   "cols": {
    "lenName": 16,
    "lenType": 16,
    "lenVar": 40
   },
   "kernels_config": {
    "python": {
     "delete_cmd_postfix": "",
     "delete_cmd_prefix": "del ",
     "library": "var_list.py",
     "varRefreshCmd": "print(var_dic_list())"
    },
    "r": {
     "delete_cmd_postfix": ") ",
     "delete_cmd_prefix": "rm(",
     "library": "var_list.r",
     "varRefreshCmd": "cat(var_dic_list()) "
    }
   },
   "types_to_exclude": [
    "module",
    "function",
    "builtin_function_or_method",
    "instance",
    "_Feature"
   ],
   "window_display": false
  }
 },
 "nbformat": 4,
 "nbformat_minor": 2
}
