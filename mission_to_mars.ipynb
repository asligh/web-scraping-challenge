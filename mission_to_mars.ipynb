{
 "cells": [
  {
   "cell_type": "code",
   "execution_count": 1,
   "metadata": {},
   "outputs": [],
   "source": [
    "from splinter import Browser\n",
    "from bs4 import BeautifulSoup\n",
    "import pandas as pd\n",
    "from webdriver_manager.chrome import ChromeDriverManager"
   ]
  },
  {
   "cell_type": "code",
   "execution_count": 2,
   "metadata": {},
   "outputs": [
    {
     "name": "stderr",
     "output_type": "stream",
     "text": [
      "\n",
      "\n",
      "====== WebDriver manager ======\n",
      "Current google-chrome version is 96.0.4664\n",
      "Get LATEST chromedriver version for 96.0.4664 google-chrome\n",
      "Trying to download new driver from https://chromedriver.storage.googleapis.com/96.0.4664.45/chromedriver_win32.zip\n",
      "Driver has been saved in cache [C:\\Users\\aslig\\.wdm\\drivers\\chromedriver\\win32\\96.0.4664.45]\n"
     ]
    }
   ],
   "source": [
    "executable_path = {'executable_path': ChromeDriverManager().install()}\n",
    "browser = Browser('chrome', **executable_path, headless=False)"
   ]
  },
  {
   "cell_type": "code",
   "execution_count": 3,
   "metadata": {},
   "outputs": [],
   "source": [
    "red_planet_url       = 'https://redplanetscience.com/'\n",
    "mars_images_url      = 'https://spaceimages-mars.com/'\n",
    "galaxy_facts_url     = 'https://galaxyfacts-mars.com/'\n",
    "mars_hemispheres_url = 'https://marshemispheres.com/'"
   ]
  },
  {
   "cell_type": "code",
   "execution_count": 4,
   "metadata": {},
   "outputs": [],
   "source": [
    "browser.visit(red_planet_url)"
   ]
  },
  {
   "cell_type": "code",
   "execution_count": 5,
   "metadata": {},
   "outputs": [
    {
     "name": "stdout",
     "output_type": "stream",
     "text": [
      "<class 'bs4.element.ResultSet'>\n"
     ]
    }
   ],
   "source": [
    "html = browser.html\n",
    "soup = BeautifulSoup(html, 'html.parser')\n",
    "\n",
    "news_items = soup.find_all('div', class_='list_text')\n",
    "\n",
    "print(type(news_items))"
   ]
  },
  {
   "cell_type": "code",
   "execution_count": 6,
   "metadata": {},
   "outputs": [],
   "source": [
    "news_title = None\n",
    "news_body  = None\n",
    "scraped_news = {}\n",
    "\n",
    "try:\n",
    "    for news_item in news_items:\n",
    "        news_title = news_item.find('div',class_='content_title').text\n",
    "        news_body = news_item.find('div',class_=\"article_teaser_body\").text\n",
    "        scraped_news.update({news_title:news_body})\n",
    "        break #only take first news item\n",
    "except ElementDoesNotExist:\n",
    "    print(\"Scraping Complete\")"
   ]
  },
  {
   "cell_type": "code",
   "execution_count": 7,
   "metadata": {},
   "outputs": [
    {
     "name": "stdout",
     "output_type": "stream",
     "text": [
      "{\"Common Questions about InSight's 'Mole'\": 'The following Q&As with members of the team answer some of the most common questions about the burrowing device, part of a science instrument called the Heat Flow and Physical Properties Package (HP3).'}\n"
     ]
    }
   ],
   "source": [
    "print(scraped_news)"
   ]
  },
  {
   "cell_type": "code",
   "execution_count": 14,
   "metadata": {},
   "outputs": [],
   "source": [
    "browser.visit(mars_images_url)\n",
    "html = browser.html\n",
    "soup = BeautifulSoup(html, 'html.parser')"
   ]
  },
  {
   "cell_type": "code",
   "execution_count": 22,
   "metadata": {},
   "outputs": [
    {
     "name": "stdout",
     "output_type": "stream",
     "text": [
      "https://spaceimages-mars.com/image/featured/mars3.jpg\n"
     ]
    }
   ],
   "source": [
    "mars_images_url = browser.url\n",
    "mars_image_wrapper = soup.find_all('div', class_='floating_text_area')[0]\n",
    "img_target_url = mars_image_wrapper.find('a')['href']\n",
    "featured_image_url = mars_images_url + img_target_url\n",
    "print(featured_image_url)          "
   ]
  },
  {
   "cell_type": "code",
   "execution_count": 13,
   "metadata": {},
   "outputs": [],
   "source": [
    "browser.visit(galaxy_facts_url)\n",
    "html = browser.html\n",
    "soup = BeautifulSoup(html, 'html.parser')"
   ]
  },
  {
   "cell_type": "code",
   "execution_count": 14,
   "metadata": {},
   "outputs": [
    {
     "name": "stdout",
     "output_type": "stream",
     "text": [
      "{'Equatorial Diameter': '6,792 km', 'Polar Diameter': '6,752 km', 'Mass': '\\t6.39 × 10^23 kg (0.11 Earths)', 'Moons': '\\t2 ( Phobos  &  Deimos )', 'Orbit Distance': '\\t227,943,824 km (1.38 AU)', 'Orbit Period': '\\t687 days (1.9 years)', 'Surface Temperature': '\\t-87 to -5 °C', 'First Record': '\\t2nd millennium BC', 'Recorded By': '\\tEgyptian astronomers'}\n"
     ]
    }
   ],
   "source": [
    "equitorial_diameter = \"Equatorial Diameter\"\n",
    "polar_diameter      = \"Polar Diameter\"\n",
    "mass                = \"Mass\"\n",
    "moon                = \"Moons\"\n",
    "orbit_distance      = \"Orbit Distance\"\n",
    "orbit_period        = \"Orbit Period\"\n",
    "surface_temperature = \"Surface Temperature\"\n",
    "first_record        = \"First Record\"\n",
    "recorded_by         = \"Recorded By\"\n",
    "\n",
    "mars_fact_hash = {\n",
    "                      equitorial_diameter:None,\n",
    "                      polar_diameter:None,\n",
    "                      mass:None,\n",
    "                      moon:None,\n",
    "                      orbit_distance:None,\n",
    "                      orbit_period:None,\n",
    "                      surface_temperature:None,\n",
    "                      first_record:None,\n",
    "                      recorded_by:None\n",
    "                 }\n",
    "\n",
    "mars_facts_wrapper = soup.find('table', class_='table-striped')\n",
    "body = mars_facts_wrapper.find('tbody')\n",
    "table_rows = body.find_all('tr')\n",
    "\n",
    "for table_row in table_rows:\n",
    "    measurement_key   = table_row.find('th').text.replace(':','')\n",
    "    measurement_value = table_row.find('td').text.replace(':','')\n",
    "    mars_fact_hash.update({measurement_key:measurement_value})\n",
    "    \n",
    "print(mars_fact_hash)\n",
    " "
   ]
  },
  {
   "cell_type": "code",
   "execution_count": 77,
   "metadata": {},
   "outputs": [],
   "source": [
    "browser.visit(mars_hemispheres_url)\n",
    "html = browser.html\n",
    "soup = BeautifulSoup(html, 'html.parser')"
   ]
  },
  {
   "cell_type": "code",
   "execution_count": 78,
   "metadata": {},
   "outputs": [],
   "source": [
    "hemisphere_image_urls = []"
   ]
  },
  {
   "cell_type": "code",
   "execution_count": 79,
   "metadata": {},
   "outputs": [
    {
     "name": "stdout",
     "output_type": "stream",
     "text": [
      "[{'Cerberus Hemisphere ': 'https://marshemispheres.com/images/full.jpg'}, {'Schiaparelli Hemisphere ': 'https://marshemispheres.com/images/schiaparelli_enhanced-full.jpg'}, {'Syrtis Major Hemisphere ': 'https://marshemispheres.com/images/syrtis_major_enhanced-full.jpg'}, {'Valles Marineris Hemisphere ': 'https://marshemispheres.com/images/valles_marineris_enhanced-full.jpg'}]\n"
     ]
    }
   ],
   "source": [
    "mars_hemispheres_wrapper = soup.find('div', class_='collapsible results')\n",
    "hemispheres              = mars_hemispheres_wrapper.find_all('div', class_='item')\n",
    "mars_hemispheres_url     = browser.url\n",
    "\n",
    "for hemisphere in hemispheres:\n",
    "    title               = hemisphere.find('h3').text.replace('Enhanced','')\n",
    "    large_image_nav_url = mars_hemispheres_url + hemisphere.find('a')['href']\n",
    "\n",
    "    browser.visit(large_image_nav_url)\n",
    "    html = browser.html\n",
    "    soup = BeautifulSoup(html, 'html.parser')\n",
    "\n",
    "    mars_large_image_wrapper = soup.find('div', class_='downloads')\n",
    "    image_container = mars_large_image_wrapper.find('ul')\n",
    "    image_items = image_container.find_all('li')\n",
    "\n",
    "    for image_item in image_items:\n",
    "        image_pict_desc = image_item.find('a').text\n",
    "\n",
    "        if 'Sample' == image_pict_desc:\n",
    "            img_url = mars_hemispheres_url + image_item.find('a')['href']\n",
    "            hemisphere_image_urls.append({title:img_url})\n",
    "            break\n",
    "\n",
    "print(hemisphere_image_urls)                                 \n"
   ]
  },
  {
   "cell_type": "code",
   "execution_count": null,
   "metadata": {},
   "outputs": [],
   "source": [
    "categories = sidebar.find_all('li')\n",
    "\n",
    "category_list = []\n",
    "url_list = []\n",
    "book_url_list = []\n",
    "for category in categories:\n",
    "    title = category.text.strip()\n",
    "    category_list.append(title)\n",
    "    book_url = category.find('a')['href']\n",
    "    url_list.append(book_url)\n",
    "\n",
    "book_url_list = ['http://books.toscrape.com/' + url for url in url_list]\n",
    "\n",
    "titles_and_urls = zip(category_list, book_url_list)\n",
    "\n",
    "try:\n",
    "    for title_url in titles_and_urls:\n",
    "        browser.links.find_by_partial_text('next').click()\n",
    "except ElementDoesNotExist:\n",
    "    print(\"Scraping Complete\")"
   ]
  },
  {
   "cell_type": "code",
   "execution_count": null,
   "metadata": {},
   "outputs": [],
   "source": [
    "book_url_list"
   ]
  },
  {
   "cell_type": "code",
   "execution_count": null,
   "metadata": {},
   "outputs": [],
   "source": [
    "browser.quit()"
   ]
  }
 ],
 "metadata": {
  "kernelspec": {
   "display_name": "Python [conda env:PythonData] *",
   "language": "python",
   "name": "conda-env-PythonData-py"
  },
  "language_info": {
   "codemirror_mode": {
    "name": "ipython",
    "version": 3
   },
   "file_extension": ".py",
   "mimetype": "text/x-python",
   "name": "python",
   "nbconvert_exporter": "python",
   "pygments_lexer": "ipython3",
   "version": "3.8.11"
  },
  "varInspector": {
   "cols": {
    "lenName": 16,
    "lenType": 16,
    "lenVar": 40
   },
   "kernels_config": {
    "python": {
     "delete_cmd_postfix": "",
     "delete_cmd_prefix": "del ",
     "library": "var_list.py",
     "varRefreshCmd": "print(var_dic_list())"
    },
    "r": {
     "delete_cmd_postfix": ") ",
     "delete_cmd_prefix": "rm(",
     "library": "var_list.r",
     "varRefreshCmd": "cat(var_dic_list()) "
    }
   },
   "types_to_exclude": [
    "module",
    "function",
    "builtin_function_or_method",
    "instance",
    "_Feature"
   ],
   "window_display": false
  }
 },
 "nbformat": 4,
 "nbformat_minor": 2
}
